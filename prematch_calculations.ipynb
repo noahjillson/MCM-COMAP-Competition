{
 "cells": [
  {
   "cell_type": "code",
   "execution_count": 56,
   "metadata": {},
   "outputs": [],
   "source": [
    "import csv\n",
    "# Specify the path to your CSV file\n",
    "serve_file_path = '/Users/noahjillson/Desktop/MCM/top_100_serving_player_stats.csv'\n",
    "return_file_path = '/Users/noahjillson/Desktop/MCM/top_100_returning_player_stats.csv'\n",
    "wimbledon_file_path = '/Users/noahjillson/Desktop/MCM/wimbledon_player_stats.csv'\n",
    "matches_file_path = '/Users/noahjillson/Desktop/MCM/Wimbledon_featured_matches.csv'\n",
    "\n",
    "# Top 100 server statistics\n",
    "serve_stats = []\n",
    "with open(serve_file_path, 'r') as file:\n",
    "    csv_reader = csv.DictReader(file)\n",
    "    for row in csv_reader:\n",
    "        serve_stats.append(row) # Each row is a dictionary with keys as header names\n",
    "\n",
    "# Top 100 returning statistics\n",
    "return_stats = []\n",
    "with open(return_file_path, 'r') as file:\n",
    "    csv_reader = csv.DictReader(file)\n",
    "    for row in csv_reader:\n",
    "        return_stats.append(row) # Each row is a dictionary with keys as header names\n",
    "\n",
    "# Wimbledon 2023 player statistics\n",
    "wimbledon_stats = []\n",
    "with open(wimbledon_file_path, 'r') as file:\n",
    "    csv_reader = csv.DictReader(file)\n",
    "    for row in csv_reader:\n",
    "        wimbledon_stats.append(row) # Each row is a dictionary with keys as header names\n",
    "\n",
    "all_points = []\n",
    "with open(matches_file_path, 'r') as file:\n",
    "    csv_reader = csv.DictReader(file)\n",
    "    for row in csv_reader:\n",
    "        all_points.append(row) # Each row is a dictionary with keys as header names"
   ]
  },
  {
   "cell_type": "code",
   "execution_count": 39,
   "metadata": {},
   "outputs": [
    {
     "data": {
      "text/plain": [
       "[{'player_name': 'Daniil Medvedev',\n",
       "  '1st_serve_in_percent': '61',\n",
       "  '1st_serve_won_percent': '75',\n",
       "  '2nd_serve_won_percent': '52',\n",
       "  '1st_return_won_percent': '31',\n",
       "  '2nd_return_won_percent': '54'},\n",
       " {'player_name': 'Carlos Alcaraz',\n",
       "  '1st_serve_in_percent': '65',\n",
       "  '1st_serve_won_percent': '71',\n",
       "  '2nd_serve_won_percent': '55',\n",
       "  '1st_return_won_percent': '34',\n",
       "  '2nd_return_won_percent': '53'},\n",
       " {'player_name': 'Nicolas Jarry',\n",
       "  '1st_serve_in_percent': '64',\n",
       "  '1st_serve_won_percent': '74',\n",
       "  '2nd_serve_won_percent': '53',\n",
       "  '1st_return_won_percent': '26',\n",
       "  '2nd_return_won_percent': '46'},\n",
       " {'player_name': 'Lorenzo Musetti',\n",
       "  '1st_serve_in_percent': '64',\n",
       "  '1st_serve_won_percent': '69',\n",
       "  '2nd_serve_won_percent': '51',\n",
       "  '1st_return_won_percent': '30',\n",
       "  '2nd_return_won_percent': '51'},\n",
       " {'player_name': 'Hubert Hurkacz',\n",
       "  '1st_serve_in_percent': '64',\n",
       "  '1st_serve_won_percent': '76',\n",
       "  '2nd_serve_won_percent': '52',\n",
       "  '1st_return_won_percent': '27',\n",
       "  '2nd_return_won_percent': '48'},\n",
       " {'player_name': 'Jannik Sinner',\n",
       "  '1st_serve_in_percent': '59',\n",
       "  '1st_serve_won_percent': '73',\n",
       "  '2nd_serve_won_percent': '54',\n",
       "  '1st_return_won_percent': '32',\n",
       "  '2nd_return_won_percent': '53'},\n",
       " {'player_name': 'Quentin Halys',\n",
       "  '1st_serve_in_percent': '60',\n",
       "  '1st_serve_won_percent': '77',\n",
       "  '2nd_serve_won_percent': '47',\n",
       "  '1st_return_won_percent': '25',\n",
       "  '2nd_return_won_percent': '46'},\n",
       " {'player_name': 'Maximilian Marterer',\n",
       "  '1st_serve_in_percent': '63',\n",
       "  '1st_serve_won_percent': '70',\n",
       "  '2nd_serve_won_percent': '53',\n",
       "  '1st_return_won_percent': '24',\n",
       "  '2nd_return_won_percent': '45'},\n",
       " {'player_name': 'Daniel Elahi Galan',\n",
       "  '1st_serve_in_percent': '63',\n",
       "  '1st_serve_won_percent': '69',\n",
       "  '2nd_serve_won_percent': '49',\n",
       "  '1st_return_won_percent': '29',\n",
       "  '2nd_return_won_percent': '49'},\n",
       " {'player_name': 'Alexander Bublik',\n",
       "  '1st_serve_in_percent': '58',\n",
       "  '1st_serve_won_percent': '77',\n",
       "  '2nd_serve_won_percent': '45',\n",
       "  '1st_return_won_percent': '28',\n",
       "  '2nd_return_won_percent': '46'},\n",
       " {'player_name': 'Mikael Ymer',\n",
       "  '1st_serve_in_percent': '68',\n",
       "  '1st_serve_won_percent': '64',\n",
       "  '2nd_serve_won_percent': '48',\n",
       "  '1st_return_won_percent': '32',\n",
       "  '2nd_return_won_percent': '51'},\n",
       " {'player_name': 'Liam Broady',\n",
       "  '1st_serve_in_percent': '62',\n",
       "  '1st_serve_won_percent': '66',\n",
       "  '2nd_serve_won_percent': '49',\n",
       "  '1st_return_won_percent': '29',\n",
       "  '2nd_return_won_percent': '48'},\n",
       " {'player_name': 'Denis Shapovalov',\n",
       "  '1st_serve_in_percent': '59',\n",
       "  '1st_serve_won_percent': '76',\n",
       "  '2nd_serve_won_percent': '51',\n",
       "  '1st_return_won_percent': '28',\n",
       "  '2nd_return_won_percent': '48'},\n",
       " {'player_name': 'Guido Pella',\n",
       "  '1st_serve_in_percent': '65',\n",
       "  '1st_serve_won_percent': '58',\n",
       "  '2nd_serve_won_percent': '52',\n",
       "  '1st_return_won_percent': '27',\n",
       "  '2nd_return_won_percent': '51'},\n",
       " {'player_name': 'Roman Safiullin',\n",
       "  '1st_serve_in_percent': '63',\n",
       "  '1st_serve_won_percent': '74',\n",
       "  '2nd_serve_won_percent': '52',\n",
       "  '1st_return_won_percent': '28',\n",
       "  '2nd_return_won_percent': '51'},\n",
       " {'player_name': 'David Goffin',\n",
       "  '1st_serve_in_percent': '58',\n",
       "  '1st_serve_won_percent': '71',\n",
       "  '2nd_serve_won_percent': '50',\n",
       "  '1st_return_won_percent': '31',\n",
       "  '2nd_return_won_percent': '52'},\n",
       " {'player_name': 'Andrey Rublev',\n",
       "  '1st_serve_in_percent': '61',\n",
       "  '1st_serve_won_percent': '75',\n",
       "  '2nd_serve_won_percent': '51',\n",
       "  '1st_return_won_percent': '30',\n",
       "  '2nd_return_won_percent': '53'},\n",
       " {'player_name': 'Stan Wawrinka',\n",
       "  '1st_serve_in_percent': '58',\n",
       "  '1st_serve_won_percent': '74',\n",
       "  '2nd_serve_won_percent': '54',\n",
       "  '1st_return_won_percent': '30',\n",
       "  '2nd_return_won_percent': '49'},\n",
       " {'player_name': 'Novak Djokovic',\n",
       "  '1st_serve_in_percent': '65',\n",
       "  '1st_serve_won_percent': '74',\n",
       "  '2nd_serve_won_percent': '56',\n",
       "  '1st_return_won_percent': '34',\n",
       "  '2nd_return_won_percent': '55'},\n",
       " {'player_name': 'Jiri Lehecka',\n",
       "  '1st_serve_in_percent': '64',\n",
       "  '1st_serve_won_percent': '70',\n",
       "  '2nd_serve_won_percent': '51',\n",
       "  '1st_return_won_percent': '28',\n",
       "  '2nd_return_won_percent': '47'},\n",
       " {'player_name': 'Tommy Paul',\n",
       "  '1st_serve_in_percent': '61',\n",
       "  '1st_serve_won_percent': '71',\n",
       "  '2nd_serve_won_percent': '52',\n",
       "  '1st_return_won_percent': '30',\n",
       "  '2nd_return_won_percent': '51'},\n",
       " {'player_name': 'Christopher Eubanks',\n",
       "  '1st_serve_in_percent': '68',\n",
       "  '1st_serve_won_percent': '74',\n",
       "  '2nd_serve_won_percent': '51',\n",
       "  '1st_return_won_percent': '23',\n",
       "  '2nd_return_won_percent': '44'},\n",
       " {'player_name': \"Christopher O'Connell\",\n",
       "  '1st_serve_in_percent': '63',\n",
       "  '1st_serve_won_percent': '73',\n",
       "  '2nd_serve_won_percent': '49',\n",
       "  '1st_return_won_percent': '26',\n",
       "  '2nd_return_won_percent': '47'},\n",
       " {'player_name': 'Marton Fucsovics',\n",
       "  '1st_serve_in_percent': '58',\n",
       "  '1st_serve_won_percent': '70',\n",
       "  '2nd_serve_won_percent': '51',\n",
       "  '1st_return_won_percent': '31',\n",
       "  '2nd_return_won_percent': '50'},\n",
       " {'player_name': 'Alejandro Davidovich Fokina',\n",
       "  '1st_serve_in_percent': '67',\n",
       "  '1st_serve_won_percent': '66',\n",
       "  '2nd_serve_won_percent': '51',\n",
       "  '1st_return_won_percent': '32',\n",
       "  '2nd_return_won_percent': '51'},\n",
       " {'player_name': 'Holger Rune',\n",
       "  '1st_serve_in_percent': '63',\n",
       "  '1st_serve_won_percent': '72',\n",
       "  '2nd_serve_won_percent': '53',\n",
       "  '1st_return_won_percent': '29',\n",
       "  '2nd_return_won_percent': '59'},\n",
       " {'player_name': 'Laslo Djere',\n",
       "  '1st_serve_in_percent': '60',\n",
       "  '1st_serve_won_percent': '71',\n",
       "  '2nd_serve_won_percent': '50',\n",
       "  '1st_return_won_percent': '29',\n",
       "  '2nd_return_won_percent': '49'},\n",
       " {'player_name': 'Stefanos Tsitsipas',\n",
       "  '1st_serve_in_percent': '62',\n",
       "  '1st_serve_won_percent': '76',\n",
       "  '2nd_serve_won_percent': '55',\n",
       "  '1st_return_won_percent': '29',\n",
       "  '2nd_return_won_percent': '49'},\n",
       " {'player_name': 'Frances Tiafoe',\n",
       "  '1st_serve_in_percent': '61',\n",
       "  '1st_serve_won_percent': '73',\n",
       "  '2nd_serve_won_percent': '52',\n",
       "  '1st_return_won_percent': '27',\n",
       "  '2nd_return_won_percent': '50'},\n",
       " {'player_name': 'Grigor Dimitrov',\n",
       "  '1st_serve_in_percent': '62',\n",
       "  '1st_serve_won_percent': '75',\n",
       "  '2nd_serve_won_percent': '51',\n",
       "  '1st_return_won_percent': '30',\n",
       "  '2nd_return_won_percent': '50'},\n",
       " {'player_name': 'Alexander Zverev',\n",
       "  '1st_serve_in_percent': '66',\n",
       "  '1st_serve_won_percent': '74',\n",
       "  '2nd_serve_won_percent': '50',\n",
       "  '1st_return_won_percent': '30',\n",
       "  '2nd_return_won_percent': '51'},\n",
       " {'player_name': 'Matteo Berrettini',\n",
       "  '1st_serve_in_percent': '63',\n",
       "  '1st_serve_won_percent': '78',\n",
       "  '2nd_serve_won_percent': '53',\n",
       "  '1st_return_won_percent': '28',\n",
       "  '2nd_return_won_percent': '46'}]"
      ]
     },
     "execution_count": 39,
     "metadata": {},
     "output_type": "execute_result"
    }
   ],
   "source": [
    "wimbledon_stats"
   ]
  },
  {
   "cell_type": "markdown",
   "metadata": {},
   "source": [
    "## Calculating $f_{\\text{avg}}$ and $g_{\\text{avg}}$"
   ]
  },
  {
   "cell_type": "code",
   "execution_count": 32,
   "metadata": {},
   "outputs": [
    {
     "name": "stdout",
     "output_type": "stream",
     "text": [
      "0.6267299999999998 0.7444099999999999 0.5236600000000002 0.26203000000000004 0.48307\n"
     ]
    }
   ],
   "source": [
    "# Serving Averages\n",
    "a_avg = sum(map(lambda x: float(x['1st_serve_in_percent']), serve_stats)) / 10000   # We divide by 10000 to acount for 100 entries\n",
    "b_avg = sum(map(lambda x: float(x['1st_serve_won_percent']), serve_stats)) / 10000  # and for the conversion of the percentages to\n",
    "c_avg = sum(map(lambda x: float(x['2nd_serve_won_percent']), serve_stats)) / 10000  # decimal values (i.e. 79.3 -> 0.793)\n",
    "\n",
    "# Returning Averages\n",
    "d_avg = sum(map(lambda x: float(x['1st_serve_return_won']), return_stats)) / 10000\n",
    "e_avg = sum(map(lambda x: float(x['2nd_serve_return_won']), return_stats)) / 10000\n",
    "\n",
    "print(a_avg, b_avg, c_avg, d_avg, e_avg)"
   ]
  },
  {
   "cell_type": "code",
   "execution_count": 34,
   "metadata": {},
   "outputs": [
    {
     "name": "stdout",
     "output_type": "stream",
     "text": [
      "0.6620106475 0.34453760080000007 1.0065482483000001\n"
     ]
    }
   ],
   "source": [
    "f_avg = a_avg * b_avg + (1 - a_avg) * c_avg\n",
    "g_avg = a_avg * d_avg + (1 - a_avg) * e_avg\n",
    "\n",
    "print(f_avg, g_avg, f_avg + g_avg)"
   ]
  },
  {
   "cell_type": "markdown",
   "metadata": {},
   "source": [
    "## Defining functions for $f_i$ and $g_i$"
   ]
  },
  {
   "cell_type": "code",
   "execution_count": 35,
   "metadata": {},
   "outputs": [],
   "source": [
    "def f_i(a_i, b_i, c_i):\n",
    "    return a_i * b_i + (1 - a_i) * c_i\n",
    "\n",
    "def g_i(d_i, e_i):\n",
    "    return a_avg * d_i + (1 - a_avg) * e_i"
   ]
  },
  {
   "cell_type": "markdown",
   "metadata": {},
   "source": [
    "## Calculating $f_i$ and $g_i$ for Wimbledon Players"
   ]
  },
  {
   "cell_type": "code",
   "execution_count": 66,
   "metadata": {},
   "outputs": [],
   "source": [
    "# Cleaning the Wimbledon player's statistics\n",
    "for p in wimbledon_stats:\n",
    "    p['1st_serve_in_percent'] = float(p['1st_serve_in_percent']) / 100\n",
    "    p['1st_serve_won_percent'] = float(p['1st_serve_won_percent']) / 100\n",
    "    p['2nd_serve_won_percent'] = float(p['2nd_serve_won_percent']) / 100\n",
    "    p['2nd_return_won_percent'] = float(p['2nd_return_won_percent']) / 100\n",
    "    p['1st_return_won_percent'] = float(p['1st_return_won_percent']) / 100"
   ]
  },
  {
   "cell_type": "code",
   "execution_count": 67,
   "metadata": {},
   "outputs": [],
   "source": [
    "for p in wimbledon_stats:\n",
    "    p['f_i'] = f_i(p['1st_serve_in_percent'], p['1st_serve_won_percent'], p['2nd_serve_won_percent'])\n",
    "    p['g_i'] = g_i(p['1st_return_won_percent'], p['2nd_return_won_percent'])\n"
   ]
  },
  {
   "cell_type": "code",
   "execution_count": 49,
   "metadata": {},
   "outputs": [],
   "source": [
    "# out_path = '/Users/noahjillson/Desktop/MCM/computed_Wimbledon_player_stats.csv'\n",
    "\n",
    "# fieldnames = ['player_name','1st_serve_in_percent','1st_serve_won_percent','2nd_serve_won_percent','1st_return_won_percent','2nd_return_won_percent','g_i','f_i']\n",
    "# with open(out_path, mode='w', newline='') as file:\n",
    "#     writer = csv.DictWriter(file, fieldnames=fieldnames)\n",
    "#     writer.writeheader()\n",
    "#     writer.writerows(wimbledon_stats)"
   ]
  },
  {
   "cell_type": "markdown",
   "metadata": {},
   "source": [
    "## Defining $f_{i,j}$ and $g_{i,j}$"
   ]
  },
  {
   "cell_type": "code",
   "execution_count": 69,
   "metadata": {},
   "outputs": [],
   "source": [
    "def f_ij(fi, gj):\n",
    "    return f_avg + (fi - f_avg) - (gj - g_avg)\n",
    "\n",
    "def g_ji(fi, gj):\n",
    "    return g_avg + (gj - g_avg) - (fi - f_avg)"
   ]
  },
  {
   "cell_type": "markdown",
   "metadata": {},
   "source": [
    "## Calculating $f_{i,j}$ and $g_{i,j}$ for all matches"
   ]
  },
  {
   "cell_type": "code",
   "execution_count": 60,
   "metadata": {},
   "outputs": [],
   "source": [
    "matches = set()\n",
    "for r in all_points:\n",
    "    matches.add((r['player1'], r['player2']))"
   ]
  },
  {
   "cell_type": "code",
   "execution_count": 73,
   "metadata": {},
   "outputs": [
    {
     "name": "stdout",
     "output_type": "stream",
     "text": [
      "('Carlos Alcaraz', 'Nicolas Jarry') 0.6638836008 0.5980163008\n",
      "('Alexander Zverev', 'Matteo Berrettini') 0.6557490008 0.6536509008\n",
      "('Carlos Alcaraz', 'Novak Djokovic') 0.5801509007999999 0.6106163008000001\n",
      "('Stan Wawrinka', 'Novak Djokovic') 0.5821509008 0.6506163008000001\n",
      "('Laslo Djere', 'Stefanos Tsitsipas') 0.6058836008 0.6600836008000001\n",
      "('Carlos Alcaraz', 'Holger Rune') 0.5965566008 0.5833163008\n",
      "('Daniel Elahi Galan', 'Mikael Ymer') 0.5696163008 0.5686836008\n",
      "('Jannik Sinner', 'Roman Safiullin') 0.6307855008000001 0.6047509008\n",
      "('Andrey Rublev', 'Novak Djokovic') 0.5825509008 0.6356855008000001\n",
      "('Jiri Lehecka', 'Tommy Paul') 0.5977509007999999 0.6295163008\n",
      "('Jannik Sinner', 'Novak Djokovic') 0.5782509008 0.6231509008\n",
      "('Hubert Hurkacz', 'Novak Djokovic') 0.5997509007999999 0.6731509008000001\n",
      "('Lorenzo Musetti', 'Hubert Hurkacz') 0.6213509008 0.6397509008\n",
      "('Christopher Eubanks', 'Stefanos Tsitsipas') 0.6462836008 0.7163509008\n",
      "('Andrey Rublev', 'Alexander Bublik') 0.6537490008000001 0.5942855008000001\n",
      "('Daniil Medvedev', 'Christopher Eubanks') 0.6964509007999999 0.6150855008\n",
      "('Alexander Bublik', 'Maximilian Marterer') 0.6617509008000001 0.6344490008\n",
      "('Alejandro Davidovich Fokina', 'Holger Rune') 0.5530566008000001 0.6033163008\n",
      "('Carlos Alcaraz', 'Matteo Berrettini') 0.6513490007999999 0.6211163008\n",
      "('Christopher Eubanks', \"Christopher O'Connell\") 0.6725509008 0.6773509008\n",
      "('Daniil Medvedev', 'Marton Fucsovics') 0.6239163008 0.5688855008\n",
      "('Grigor Dimitrov', 'Holger Rune') 0.6013566008 0.6195836008\n",
      "('Frances Tiafoe', 'Grigor Dimitrov') 0.6179836008 0.6474855008\n",
      "('Jannik Sinner', 'Daniel Elahi Galan') 0.6319836008 0.5621509008\n",
      "('Guido Pella', 'Roman Safiullin') 0.5376855007999999 0.6435528008000001\n",
      "('Andrey Rublev', 'David Goffin') 0.6125509008000001 0.5804855007999999\n",
      "('Carlos Alcaraz', 'Daniil Medvedev') 0.6026855007999999 0.5939163008\n",
      "('Jannik Sinner', 'Quentin Halys') 0.6682509008 0.5961509007999999\n",
      "('Daniil Medvedev', 'Jiri Lehecka') 0.6539163008 0.5802855008\n",
      "('Denis Shapovalov', 'Liam Broady') 0.6411163008 0.5852836008000001\n",
      "('Roman Safiullin', 'Denis Shapovalov') 0.6484836008000001 0.6361855007999999\n"
     ]
    }
   ],
   "source": [
    "def find(name):\n",
    "    for r in wimbledon_stats:\n",
    "        if r['player_name'] == name:\n",
    "            return r\n",
    "    print(f\"Could not find {name} in wimbledon_stats\")\n",
    "\n",
    "for m in matches:\n",
    "    fij = f_ij(find(m[0])['f_i'], find(m[1])['g_i'])\n",
    "    gji = g_ji(find(m[0])['f_i'], find(m[1])['g_i'])\n",
    "    print(m, fij, f_ij(find(m[1])['f_i'], find(m[0])['g_i']))"
   ]
  },
  {
   "cell_type": "code",
   "execution_count": null,
   "metadata": {},
   "outputs": [],
   "source": []
  }
 ],
 "metadata": {
  "kernelspec": {
   "display_name": "base",
   "language": "python",
   "name": "python3"
  },
  "language_info": {
   "codemirror_mode": {
    "name": "ipython",
    "version": 3
   },
   "file_extension": ".py",
   "mimetype": "text/x-python",
   "name": "python",
   "nbconvert_exporter": "python",
   "pygments_lexer": "ipython3",
   "version": "3.11.4"
  },
  "orig_nbformat": 4
 },
 "nbformat": 4,
 "nbformat_minor": 2
}
