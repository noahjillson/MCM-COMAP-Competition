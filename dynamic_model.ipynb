{
 "cells": [
  {
   "cell_type": "markdown",
   "metadata": {},
   "source": [
    "## Calculate pre-match $p_0$ for each match in Wimbledon"
   ]
  },
  {
   "cell_type": "code",
   "execution_count": 8,
   "metadata": {},
   "outputs": [
    {
     "name": "stdout",
     "output_type": "stream",
     "text": [
      "0.6267299999999998 0.7444099999999999 0.5236600000000002 0.26203000000000004 0.48307\n",
      "0.6620106475 0.34453760080000007 1.0065482483000001\n",
      "{('Jannik Sinner', 'Novak Djokovic'): [0.5782509008, 0.6231509008], ('Carlos Alcaraz', 'Novak Djokovic'): [0.5801509007999999, 0.6106163008000001], ('Jannik Sinner', 'Quentin Halys'): [0.6682509008, 0.5961509007999999], ('Lorenzo Musetti', 'Hubert Hurkacz'): [0.6213509008, 0.6397509008], ('Daniil Medvedev', 'Jiri Lehecka'): [0.6539163008, 0.5802855008], ('Daniil Medvedev', 'Marton Fucsovics'): [0.6239163008, 0.5688855008], ('Grigor Dimitrov', 'Holger Rune'): [0.6013566008, 0.6195836008], ('Andrey Rublev', 'Alexander Bublik'): [0.6537490008000001, 0.5942855008000001], ('Carlos Alcaraz', 'Holger Rune'): [0.5965566008, 0.5833163008], ('Jannik Sinner', 'Daniel Elahi Galan'): [0.6319836008, 0.5621509008], ('Daniel Elahi Galan', 'Mikael Ymer'): [0.5696163008, 0.5686836008], ('Hubert Hurkacz', 'Novak Djokovic'): [0.5997509007999999, 0.6731509008000001], ('Alexander Zverev', 'Matteo Berrettini'): [0.6557490008, 0.6536509008], ('Carlos Alcaraz', 'Daniil Medvedev'): [0.6026855007999999, 0.5939163008], ('Christopher Eubanks', \"Christopher O'Connell\"): [0.6725509008, 0.6773509008], ('Jannik Sinner', 'Roman Safiullin'): [0.6307855008000001, 0.6047509008], ('Jiri Lehecka', 'Tommy Paul'): [0.5977509007999999, 0.6295163008], ('Denis Shapovalov', 'Liam Broady'): [0.6411163008, 0.5852836008000001], ('Frances Tiafoe', 'Grigor Dimitrov'): [0.6179836008, 0.6474855008], ('Christopher Eubanks', 'Stefanos Tsitsipas'): [0.6462836008, 0.7163509008], ('Roman Safiullin', 'Denis Shapovalov'): [0.6484836008000001, 0.6361855007999999], ('Alexander Bublik', 'Maximilian Marterer'): [0.6617509008000001, 0.6344490008], ('Stan Wawrinka', 'Novak Djokovic'): [0.5821509008, 0.6506163008000001], ('Daniil Medvedev', 'Christopher Eubanks'): [0.6964509007999999, 0.6150855008], ('Andrey Rublev', 'David Goffin'): [0.6125509008000001, 0.5804855007999999], ('Guido Pella', 'Roman Safiullin'): [0.5376855007999999, 0.6435528008000001], ('Andrey Rublev', 'Novak Djokovic'): [0.5825509008, 0.6356855008000001], ('Carlos Alcaraz', 'Matteo Berrettini'): [0.6513490007999999, 0.6211163008], ('Carlos Alcaraz', 'Nicolas Jarry'): [0.6638836008, 0.5980163008], ('Laslo Djere', 'Stefanos Tsitsipas'): [0.6058836008, 0.6600836008000001], ('Alejandro Davidovich Fokina', 'Holger Rune'): [0.5530566008000001, 0.6033163008]}\n"
     ]
    }
   ],
   "source": [
    "%run '/Users/noahjillson/Desktop/MCM/prematch_calculations.ipynb'"
   ]
  },
  {
   "cell_type": "markdown",
   "metadata": {},
   "source": [
    "## Defining the Model"
   ]
  },
  {
   "cell_type": "code",
   "execution_count": 10,
   "metadata": {},
   "outputs": [],
   "source": [
    "# At the moment, this model is a placeholder. It likely needs to be learned using Gradient Descent\n",
    "# Optimization of this type would be outside the scope of this notebook. It will later be addressed\n",
    "# and an optimal value for n should be imported\n",
    "n = .5"
   ]
  },
  {
   "cell_type": "markdown",
   "metadata": {},
   "source": [
    "#### Sub Functions "
   ]
  },
  {
   "cell_type": "code",
   "execution_count": null,
   "metadata": {},
   "outputs": [],
   "source": [
    "# Weight function that determines how heavility weighted the pre-match predictions are favored\n",
    "# compared to the in-match predictions calculated from score_seq\n",
    "def theta(score_seq):\n",
    "    return n / (n + len(score_seq))"
   ]
  },
  {
   "cell_type": "code",
   "execution_count": null,
   "metadata": {},
   "outputs": [],
   "source": [
    "# The percentage of points won on serve give the current score sequence\n",
    "def p_bar(score_seq):\n",
    "    return 1 # In match points won on serve percentage (points won on serve / points served)"
   ]
  },
  {
   "cell_type": "markdown",
   "metadata": {},
   "source": [
    "#### The Model"
   ]
  },
  {
   "cell_type": "code",
   "execution_count": null,
   "metadata": {},
   "outputs": [],
   "source": [
    "def dynamic_model(score_seq, p0):\n",
    "    return theta(score_seq) * p0 + (1 - theta(score_seq)) * p_bar(score_seq)"
   ]
  },
  {
   "cell_type": "markdown",
   "metadata": {},
   "source": [
    "## Converting match data to score sequences"
   ]
  },
  {
   "cell_type": "code",
   "execution_count": null,
   "metadata": {},
   "outputs": [],
   "source": []
  }
 ],
 "metadata": {
  "kernelspec": {
   "display_name": "base",
   "language": "python",
   "name": "python3"
  },
  "language_info": {
   "codemirror_mode": {
    "name": "ipython",
    "version": 3
   },
   "file_extension": ".py",
   "mimetype": "text/x-python",
   "name": "python",
   "nbconvert_exporter": "python",
   "pygments_lexer": "ipython3",
   "version": "3.11.4"
  },
  "orig_nbformat": 4
 },
 "nbformat": 4,
 "nbformat_minor": 2
}
