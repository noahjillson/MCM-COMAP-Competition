{
 "cells": [
  {
   "cell_type": "code",
   "execution_count": 129,
   "metadata": {},
   "outputs": [],
   "source": [
    "import math\n",
    "from sympy import *\n",
    "init_printing(use_unicode=True)"
   ]
  },
  {
   "cell_type": "markdown",
   "metadata": {},
   "source": [
    "## Symbol Definitions:"
   ]
  },
  {
   "cell_type": "code",
   "execution_count": 130,
   "metadata": {},
   "outputs": [],
   "source": [
    "p_bar = symbols(r'\\bar{p}(S_m)')\n",
    "p_0 = symbols(r'p_0')\n",
    "y = symbols(r'y_i')\n",
    "n = symbols(r'n_0')\n",
    "m = symbols(r'm')\n",
    "i = symbols(r'i')"
   ]
  },
  {
   "cell_type": "markdown",
   "metadata": {},
   "source": [
    "## Dynamic Baysian Update Model:\n",
    "\n",
    "$$\\hat{p}(S_i) = \\frac{n_0}{(i + n_0)}*p_0 + \\bar{p}(S_i)*\\lparen 1 + \\frac{-n_0}{i + n_0}\\rparen$$"
   ]
  },
  {
   "cell_type": "code",
   "execution_count": 131,
   "metadata": {},
   "outputs": [
    {
     "name": "stdout",
     "output_type": "stream",
     "text": [
      "\\bar{p}(S_m)*(-n_0/(i + n_0) + 1) + n_0*p_0/(i + n_0)\n"
     ]
    }
   ],
   "source": [
    "# Compound Symbols / Equations\n",
    "theta = n / (n + i) # symbols(r'\\theta') - This will represent theta as the latex theta abstraction\n",
    "p_hat = theta * p_0 + (1 - theta) * p_bar\n",
    "\n",
    "print(p_hat)"
   ]
  },
  {
   "cell_type": "markdown",
   "metadata": {},
   "source": [
    "## $n_0$ Loss Function:\n",
    "\n",
    "$$Loss(n_0) = \\frac{-1}{m} \\sum_{i=1}^{m}{ \\left\\{ \\lambda_i \\left[ y_i \\log{\\hat{p}(S_i)}  + (1 - y_i) \\log{\\hat{p}(1 - S_i)} \\right] + (p_0 - \\hat{p}(S_i))^2 \\right\\} }$$\n",
    "\n",
    "Its parts include...\n",
    "\n",
    "1) $$\\text{logloss} = y_i \\log{\\hat{p}(S_i)}  + (1 - y_i) \\log{\\hat{p}(1 - S_i)}$$\n",
    "\n",
    "2) $$L_2 = (p_0 - \\hat{p}(S_i))^2$$"
   ]
  },
  {
   "cell_type": "code",
   "execution_count": 132,
   "metadata": {},
   "outputs": [
    {
     "name": "stdout",
     "output_type": "stream",
     "text": [
      "2*i*(y_i*log(\\bar{p}(S_m)*(-n_0/(i + n_0) + 1) + n_0*p_0/(i + n_0)) + (1 - y_i)*log(-\\bar{p}(S_m)*(-n_0/(i + n_0) + 1) - n_0*p_0/(i + n_0) + 1))/(m*(m + 1)) + (-\\bar{p}(S_m)*(-n_0/(i + n_0) + 1) - n_0*p_0/(i + n_0) + p_0)**2\n"
     ]
    }
   ],
   "source": [
    "# y = symbols(r'y_i')\n",
    "# i = symbols(r'i')\n",
    "\n",
    "lambd = (2 * i) / (m * (m + 1))\n",
    "logloss_inside = lambd * (y * log(p_hat) + (1 - y) * log(1 - p_hat))\n",
    "squared_error_loss_inside = (p_0 - p_hat)**2\n",
    "loss_inside = logloss_inside + squared_error_loss_inside\n",
    "\n",
    "print(loss_inside)"
   ]
  },
  {
   "cell_type": "markdown",
   "metadata": {},
   "source": [
    "## Partial Derivatives:\n",
    "\n",
    "#### Unsimplified:"
   ]
  },
  {
   "cell_type": "code",
   "execution_count": 133,
   "metadata": {},
   "outputs": [
    {
     "data": {
      "image/png": "[encoded data removed]",
      "text/latex": [
       "$\\displaystyle \\frac{2 i \\left(\\frac{y_{i} \\left(\\bar{p}(S_m) \\left(\\frac{n_{0}}{\\left(i + n_{0}\\right)^{2}} - \\frac{1}{i + n_{0}}\\right) - \\frac{n_{0} p_{0}}{\\left(i + n_{0}\\right)^{2}} + \\frac{p_{0}}{i + n_{0}}\\right)}{\\bar{p}(S_m) \\left(- \\frac{n_{0}}{i + n_{0}} + 1\\right) + \\frac{n_{0} p_{0}}{i + n_{0}}} + \\frac{\\left(1 - y_{i}\\right) \\left(- \\bar{p}(S_m) \\left(\\frac{n_{0}}{\\left(i + n_{0}\\right)^{2}} - \\frac{1}{i + n_{0}}\\right) + \\frac{n_{0} p_{0}}{\\left(i + n_{0}\\right)^{2}} - \\frac{p_{0}}{i + n_{0}}\\right)}{- \\bar{p}(S_m) \\left(- \\frac{n_{0}}{i + n_{0}} + 1\\right) - \\frac{n_{0} p_{0}}{i + n_{0}} + 1}\\right)}{m \\left(m + 1\\right)} + \\left(- 2 \\bar{p}(S_m) \\left(\\frac{n_{0}}{\\left(i + n_{0}\\right)^{2}} - \\frac{1}{i + n_{0}}\\right) + \\frac{2 n_{0} p_{0}}{\\left(i + n_{0}\\right)^{2}} - \\frac{2 p_{0}}{i + n_{0}}\\right) \\left(- \\bar{p}(S_m) \\left(- \\frac{n_{0}}{i + n_{0}} + 1\\right) - \\frac{n_{0} p_{0}}{i + n_{0}} + p_{0}\\right)$"
      ],
      "text/plain": [
       "    ⎛   ⎛            ⎛    n₀        1   ⎞     n₀⋅p₀       p₀  ⎞            ⎛  \n",
       "    ⎜yᵢ⋅⎜\\bar{p}(Sₘ₎⋅⎜───────── - ──────⎟ - ───────── + ──────⎟   (1 - yᵢ)⋅⎜- \n",
       "    ⎜   ⎜            ⎜        2   i + n₀⎟           2   i + n₀⎟            ⎜  \n",
       "    ⎜   ⎝            ⎝(i + n₀)          ⎠   (i + n₀)          ⎠            ⎝  \n",
       "2⋅i⋅⎜────────────────────────────────────────────────────────── + ────────────\n",
       "    ⎜                       ⎛    n₀      ⎞   n₀⋅p₀                            \n",
       "    ⎜           \\bar{p}(Sₘ₎⋅⎜- ────── + 1⎟ + ──────                           \n",
       "    ⎝                       ⎝  i + n₀    ⎠   i + n₀                           \n",
       "──────────────────────────────────────────────────────────────────────────────\n",
       "                                                              m⋅(m + 1)       \n",
       "                                                                              \n",
       "\n",
       "            ⎛    n₀        1   ⎞     n₀⋅p₀       p₀  ⎞⎞                       \n",
       "\\bar{p}(Sₘ₎⋅⎜───────── - ──────⎟ + ───────── - ──────⎟⎟                       \n",
       "            ⎜        2   i + n₀⎟           2   i + n₀⎟⎟                       \n",
       "            ⎝(i + n₀)          ⎠   (i + n₀)          ⎠⎟                       \n",
       "──────────────────────────────────────────────────────⎟                       \n",
       "              ⎛    n₀      ⎞   n₀⋅p₀                  ⎟                       \n",
       "- \\bar{p}(Sₘ₎⋅⎜- ────── + 1⎟ - ────── + 1             ⎟                       \n",
       "              ⎝  i + n₀    ⎠   i + n₀                 ⎠   ⎛                ⎛  \n",
       "─────────────────────────────────────────────────────── + ⎜- 2⋅\\bar{p}(Sₘ₎⋅⎜──\n",
       "                                                          ⎜                ⎜  \n",
       "                                                          ⎝                ⎝(i\n",
       "\n",
       "                                                                              \n",
       "                                                                              \n",
       "                                                                              \n",
       "                                                                              \n",
       "                                                                              \n",
       "                                                                              \n",
       "                                                                              \n",
       "  n₀        1   ⎞    2⋅n₀⋅p₀     2⋅p₀ ⎞ ⎛              ⎛    n₀      ⎞   n₀⋅p₀ \n",
       "─────── - ──────⎟ + ───────── - ──────⎟⋅⎜- \\bar{p}(Sₘ₎⋅⎜- ────── + 1⎟ - ──────\n",
       "      2   i + n₀⎟           2   i + n₀⎟ ⎝              ⎝  i + n₀    ⎠   i + n₀\n",
       " + n₀)          ⎠   (i + n₀)          ⎠                                       \n",
       "\n",
       "      \n",
       "      \n",
       "      \n",
       "      \n",
       "      \n",
       "      \n",
       "      \n",
       "     ⎞\n",
       " + p₀⎟\n",
       "     ⎠\n",
       "      "
      ]
     },
     "execution_count": 133,
     "metadata": {},
     "output_type": "execute_result"
    }
   ],
   "source": [
    "diff(loss_inside, n)"
   ]
  },
  {
   "cell_type": "markdown",
   "metadata": {},
   "source": [
    "#### Simplified:"
   ]
  },
  {
   "cell_type": "code",
   "execution_count": 134,
   "metadata": {},
   "outputs": [
    {
     "data": {
      "image/png": "[encoded data removed]",
      "text/latex": [
       "$\\displaystyle \\frac{2 \\left(i \\left(i + n_{0}\\right)^{2} \\left(- y_{i} \\left(\\bar{p}(S_m) i - i + n_{0} p_{0} - n_{0}\\right) + \\left(y_{i} - 1\\right) \\left(\\bar{p}(S_m) i + n_{0} p_{0}\\right)\\right) - m \\left(m + 1\\right) \\left(\\bar{p}(S_m) i + n_{0} p_{0}\\right) \\left(\\bar{p}(S_m) i + n_{0} p_{0} - p_{0} \\left(i + n_{0}\\right)\\right) \\left(\\bar{p}(S_m) i - i + n_{0} p_{0} - n_{0}\\right)\\right) \\left(\\bar{p}(S_m) i + n_{0} p_{0} - p_{0} \\left(i + n_{0}\\right)\\right)}{m \\left(i + n_{0}\\right)^{3} \\left(m + 1\\right) \\left(\\bar{p}(S_m) i + n_{0} p_{0}\\right) \\left(\\bar{p}(S_m) i - i + n_{0} p_{0} - n_{0}\\right)}$"
      ],
      "text/plain": [
       "  ⎛          2                                                                \n",
       "2⋅⎝i⋅(i + n₀) ⋅(-yᵢ⋅(\\bar{p}(Sₘ₎⋅i - i + n₀⋅p₀ - n₀) + (yᵢ - 1)⋅(\\bar{p}(Sₘ₎⋅i\n",
       "──────────────────────────────────────────────────────────────────────────────\n",
       "                                                                              \n",
       "                                                                              \n",
       "\n",
       "                                                                              \n",
       " + n₀⋅p₀)) - m⋅(m + 1)⋅(\\bar{p}(Sₘ₎⋅i + n₀⋅p₀)⋅(\\bar{p}(Sₘ₎⋅i + n₀⋅p₀ - p₀⋅(i \n",
       "──────────────────────────────────────────────────────────────────────────────\n",
       "           3                                                                  \n",
       " m⋅(i + n₀) ⋅(m + 1)⋅(\\bar{p}(Sₘ₎⋅i + n₀⋅p₀)⋅(\\bar{p}(Sₘ₎⋅i - i + n₀⋅p₀ - n₀) \n",
       "\n",
       "                                       ⎞                                      \n",
       "+ n₀))⋅(\\bar{p}(Sₘ₎⋅i - i + n₀⋅p₀ - n₀)⎠⋅(\\bar{p}(Sₘ₎⋅i + n₀⋅p₀ - p₀⋅(i + n₀))\n",
       "──────────────────────────────────────────────────────────────────────────────\n",
       "                                                                              \n",
       "                                                                              "
      ]
     },
     "execution_count": 134,
     "metadata": {},
     "output_type": "execute_result"
    }
   ],
   "source": [
    "simplify(diff(loss_inside, n))"
   ]
  },
  {
   "cell_type": "markdown",
   "metadata": {},
   "source": [
    "#### Abstracted:"
   ]
  },
  {
   "cell_type": "code",
   "execution_count": 135,
   "metadata": {},
   "outputs": [],
   "source": [
    "lam_i = symbols(r'\\lambda_i')\n"
   ]
  },
  {
   "cell_type": "markdown",
   "metadata": {},
   "source": [
    "#### Checking-Work:"
   ]
  },
  {
   "cell_type": "code",
   "execution_count": 136,
   "metadata": {},
   "outputs": [
    {
     "data": {
      "image/png": "[encoded data removed]",
      "text/latex": [
       "$\\displaystyle \\frac{i}{\\left(i + n_{0}\\right)^{2}}$"
      ],
      "text/plain": [
       "    i    \n",
       "─────────\n",
       "        2\n",
       "(i + n₀) "
      ]
     },
     "execution_count": 136,
     "metadata": {},
     "output_type": "execute_result"
    }
   ],
   "source": [
    "simplify(diff(theta, n))"
   ]
  },
  {
   "cell_type": "code",
   "execution_count": 137,
   "metadata": {},
   "outputs": [
    {
     "name": "stdout",
     "output_type": "stream",
     "text": [
      "\\frac{\\bar{p}(S_m) i + n_{0} p_{0} - p_{0} \\left(i + n_{0}\\right)}{\\left(i + n_{0}\\right) \\left(- \\bar{p}(S_m) i - n_{0} p_{0}\\right)}\n"
     ]
    }
   ],
   "source": [
    "#print(latex(p_hat))\n",
    "#simplify(diff(p_hat, n))\n",
    "print(latex(simplify(diff(log(p_hat), n))))"
   ]
  },
  {
   "cell_type": "markdown",
   "metadata": {},
   "source": [
    "$$\\bar{p}(S_m) \\left(- \\frac{n_{0}}{i + n_{0}} + 1\\right) + \\frac{n_{0} p_{0}}{i + n_{0}}$$\n",
    "\n",
    "-----\n",
    "\n",
    "$$\\displaystyle \\frac{- \\bar{p}(S_m) i - n_{0} p_{0} + p_{0} \\left(i + n_{0}\\right)}{\\left(i + n_{0}\\right)^{2}}$$\n",
    "\n",
    "-----\n",
    "\n",
    "$$ \\frac{\\bar{p}(S_m) i + n_{0} p_{0} - p_{0} \\left(i + n_{0}\\right)}{\\left(i + n_{0}\\right) \\left(- \\bar{p}(S_m) i - n_{0} p_{0}\\right)} $$"
   ]
  },
  {
   "cell_type": "code",
   "execution_count": 138,
   "metadata": {},
   "outputs": [
    {
     "name": "stdout",
     "output_type": "stream",
     "text": [
      "\\frac{2 i \\left(\\frac{y_{i} \\left(\\bar{p}(S_m) \\left(\\frac{n_{0}}{\\left(i + n_{0}\\right)^{2}} - \\frac{1}{i + n_{0}}\\right) - \\frac{n_{0} p_{0}}{\\left(i + n_{0}\\right)^{2}} + \\frac{p_{0}}{i + n_{0}}\\right)}{\\bar{p}(S_m) \\left(- \\frac{n_{0}}{i + n_{0}} + 1\\right) + \\frac{n_{0} p_{0}}{i + n_{0}}} + \\frac{\\left(1 - y_{i}\\right) \\left(- \\bar{p}(S_m) \\left(\\frac{n_{0}}{\\left(i + n_{0}\\right)^{2}} - \\frac{1}{i + n_{0}}\\right) + \\frac{n_{0} p_{0}}{\\left(i + n_{0}\\right)^{2}} - \\frac{p_{0}}{i + n_{0}}\\right)}{- \\bar{p}(S_m) \\left(- \\frac{n_{0}}{i + n_{0}} + 1\\right) - \\frac{n_{0} p_{0}}{i + n_{0}} + 1}\\right)}{m \\left(m + 1\\right)} + \\left(- 2 \\bar{p}(S_m) \\left(\\frac{n_{0}}{\\left(i + n_{0}\\right)^{2}} - \\frac{1}{i + n_{0}}\\right) + \\frac{2 n_{0} p_{0}}{\\left(i + n_{0}\\right)^{2}} - \\frac{2 p_{0}}{i + n_{0}}\\right) \\left(- \\bar{p}(S_m) \\left(- \\frac{n_{0}}{i + n_{0}} + 1\\right) - \\frac{n_{0} p_{0}}{i + n_{0}} + p_{0}\\right)\n",
      "0\n",
      "0\n",
      "0\n",
      "0\n",
      "0\n",
      "0\n",
      "0\n",
      "0\n",
      "-0.0335606981810812\n"
     ]
    }
   ],
   "source": [
    "# p_bar = symbols(r'\\bar{p}(S_m)')\n",
    "# p_0 = symbols(r'p_0')\n",
    "# y = symbols(r'y_i')\n",
    "# n = symbols(r'n_0')\n",
    "# m = symbols(r'm')\n",
    "# i = symbols(r'i')\n",
    "\n",
    "d = diff(loss_inside, n)\n",
    "print(latex(d))\n",
    "\n",
    "for g in range(2, 10):\n",
    "    d1 = d.subs(p_bar, 1/g)\n",
    "    d2 = d1.subs(p_0, 1/g)\n",
    "    d3 = d2.subs(y, 1/g)\n",
    "    d4 = d3.subs(n, 1/g)\n",
    "    d5 = d4.subs(m, 1/g)\n",
    "    d6 = d5.subs(i, 1/g)\n",
    "\n",
    "    print(d6)\n",
    "\n",
    "\n",
    "d1 = d.subs(p_bar, .22)\n",
    "d2 = d1.subs(p_0, .60)\n",
    "d3 = d2.subs(y, .9)\n",
    "d4 = d3.subs(n, .2)\n",
    "d5 = d4.subs(m, 3)\n",
    "d6 = d5.subs(i, 1)\n",
    "print(latex(d6))\n"
   ]
  },
  {
   "cell_type": "code",
   "execution_count": 90,
   "metadata": {},
   "outputs": [
    {
     "name": "stdout",
     "output_type": "stream",
     "text": [
      "-n_0/(i + n_0)**2 + 1/(i + n_0)\n"
     ]
    },
    {
     "data": {
      "image/png": "[encoded data removed]",
      "text/latex": [
       "$\\displaystyle \\frac{1}{4}$"
      ],
      "text/plain": [
       "1/4"
      ]
     },
     "execution_count": 90,
     "metadata": {},
     "output_type": "execute_result"
    }
   ],
   "source": [
    "k = diff(theta, n)\n",
    "print(k)\n",
    "j = k.subs(n, 1)\n",
    "j.subs(i, 1)"
   ]
  },
  {
   "cell_type": "markdown",
   "metadata": {},
   "source": [
    "$$\\left(- 2 \\bar{p}(S_m) \\left(\\frac{n_{0}}{\\left(n_{0} + 1\\right)^{2}} - \\frac{1}{n_{0} + 1}\\right) + \\frac{2 n_{0} p_{0}}{\\left(n_{0} + 1\\right)^{2}} - \\frac{2 p_{0}}{n_{0} + 1}\\right) \\left(- \\bar{p}(S_m) \\left(- \\frac{n_{0}}{n_{0} + 1} + 1\\right) - \\frac{n_{0} p_{0}}{n_{0} + 1} + p_{0}\\right) + \\frac{2 \\left(\\frac{y_{i} \\left(\\bar{p}(S_m) \\left(\\frac{n_{0}}{\\left(n_{0} + 1\\right)^{2}} - \\frac{1}{n_{0} + 1}\\right) - \\frac{n_{0} p_{0}}{\\left(n_{0} + 1\\right)^{2}} + \\frac{p_{0}}{n_{0} + 1}\\right)}{\\bar{p}(S_m) \\left(- \\frac{n_{0}}{n_{0} + 1} + 1\\right) + \\frac{n_{0} p_{0}}{n_{0} + 1}} + \\frac{\\left(1 - y_{i}\\right) \\left(- \\bar{p}(S_m) \\left(\\frac{n_{0}}{\\left(n_{0} + 1\\right)^{2}} - \\frac{1}{n_{0} + 1}\\right) + \\frac{n_{0} p_{0}}{\\left(n_{0} + 1\\right)^{2}} - \\frac{p_{0}}{n_{0} + 1}\\right)}{- \\bar{p}(S_m) \\left(- \\frac{n_{0}}{n_{0} + 1} + 1\\right) - \\frac{n_{0} p_{0}}{n_{0} + 1} + 1}\\right)}{m \\left(m + 1\\right)}$$"
   ]
  },
  {
   "cell_type": "markdown",
   "metadata": {},
   "source": [
    "### Simplifying Further:\n",
    "\n",
    "$$ \\frac{\\lambda_{i} \\left(i + n_{0}\\right)^{2} \\left(\\frac{y_{i} \\left(i + n_{0}\\right) \\left(\\frac{p_{0}}{i + n_{0}} - \\frac{\\bar{p}(S_m) i + n_{0} p_{0}}{\\left(i + n_{0}\\right)^{2}}\\right)}{\\bar{p}(S_m) i + n_{0} p_{0}} - \\frac{\\left(i + n_{0}\\right) \\left(y_{i} - 1\\right) \\left(\\frac{1 - p_{0}}{i + n_{0}} - \\frac{- \\bar{p}(S_m) i + i - n_{0} p_{0} + n_{0}}{\\left(i + n_{0}\\right)^{2}}\\right)}{- \\bar{p}(S_m) i + i - n_{0} p_{0} + n_{0}}\\right) + \\lambda_{i} \\left(2 i + 2 n_{0}\\right) \\left(y_{i} \\log{\\left(\\frac{\\bar{p}(S_m) i + n_{0} p_{0}}{i + n_{0}} \\right)} - \\left(y_{i} - 1\\right) \\log{\\left(\\frac{- \\bar{p}(S_m) i + i - n_{0} p_{0} + n_{0}}{i + n_{0}} \\right)}\\right)}{\\left(i + n_{0}\\right)^{2}} - \\frac{2 \\left(\\lambda_{i} \\left(i + n_{0}\\right)^{2} \\left(y_{i} \\log{\\left(\\frac{\\bar{p}(S_m) i + n_{0} p_{0}}{i + n_{0}} \\right)} - \\left(y_{i} - 1\\right) \\log{\\left(\\frac{- \\bar{p}(S_m) i + i - n_{0} p_{0} + n_{0}}{i + n_{0}} \\right)}\\right) + i^{2} \\left(\\bar{p}(S_m) - p_{0}\\right)^{2}\\right)}{\\left(i + n_{0}\\right)^{3}} $$"
   ]
  },
  {
   "cell_type": "code",
   "execution_count": 127,
   "metadata": {},
   "outputs": [
    {
     "name": "stdout",
     "output_type": "stream",
     "text": [
      "\\frac{\\lambda_{i} \\left(i + n_{0}\\right)^{2} \\left(\\frac{y_{i} \\left(i + n_{0}\\right) \\left(\\frac{p_{0}}{i + n_{0}} - \\frac{\\bar{p}(S_m) i + n_{0} p_{0}}{\\left(i + n_{0}\\right)^{2}}\\right)}{\\bar{p}(S_m) i + n_{0} p_{0}} - \\frac{\\left(i + n_{0}\\right) \\left(y_{i} - 1\\right) \\left(\\frac{1 - p_{0}}{i + n_{0}} - \\frac{- \\bar{p}(S_m) i + i - n_{0} p_{0} + n_{0}}{\\left(i + n_{0}\\right)^{2}}\\right)}{- \\bar{p}(S_m) i + i - n_{0} p_{0} + n_{0}}\\right) + \\lambda_{i} \\left(2 i + 2 n_{0}\\right) \\left(y_{i} \\log{\\left(\\frac{\\bar{p}(S_m) i + n_{0} p_{0}}{i + n_{0}} \\right)} - \\left(y_{i} - 1\\right) \\log{\\left(\\frac{- \\bar{p}(S_m) i + i - n_{0} p_{0} + n_{0}}{i + n_{0}} \\right)}\\right)}{\\left(i + n_{0}\\right)^{2}} - \\frac{2 \\left(\\lambda_{i} \\left(i + n_{0}\\right)^{2} \\left(y_{i} \\log{\\left(\\frac{\\bar{p}(S_m) i + n_{0} p_{0}}{i + n_{0}} \\right)} - \\left(y_{i} - 1\\right) \\log{\\left(\\frac{- \\bar{p}(S_m) i + i - n_{0} p_{0} + n_{0}}{i + n_{0}} \\right)}\\right) + i^{2} \\left(\\bar{p}(S_m) - p_{0}\\right)^{2}\\right)}{\\left(i + n_{0}\\right)^{3}}\n"
     ]
    },
    {
     "data": {
      "image/png": "[encoded data removed]",
      "text/latex": [
       "$\\displaystyle \\lambda_{i} \\left(\\frac{y_{i} \\left(i + n_{0}\\right) \\left(\\frac{p_{0}}{i + n_{0}} - \\frac{\\bar{p}(S_m) i + n_{0} p_{0}}{\\left(i + n_{0}\\right)^{2}}\\right)}{\\bar{p}(S_m) i + n_{0} p_{0}} + \\frac{\\left(1 - y_{i}\\right) \\left(- \\frac{p_{0}}{i + n_{0}} + \\frac{\\bar{p}(S_m) i + n_{0} p_{0}}{\\left(i + n_{0}\\right)^{2}}\\right)}{1 - \\frac{\\bar{p}(S_m) i + n_{0} p_{0}}{i + n_{0}}}\\right) - \\frac{2 \\left(\\bar{p}(S_m) i - i p_{0}\\right)^{2}}{\\left(i + n_{0}\\right)^{3}}$"
      ],
      "text/plain": [
       "         ⎛            ⎛  p₀     \\bar{p}(Sₘ₎⋅i + n₀⋅p₀⎞            ⎛    p₀     \n",
       "         ⎜yᵢ⋅(i + n₀)⋅⎜────── - ─────────────────────⎟   (1 - yᵢ)⋅⎜- ────── + \n",
       "         ⎜            ⎜i + n₀                 2      ⎟            ⎜  i + n₀   \n",
       "         ⎜            ⎝               (i + n₀)       ⎠            ⎝           \n",
       "\\lambdaᵢ⋅⎜──────────────────────────────────────────── + ─────────────────────\n",
       "         ⎜           \\bar{p}(Sₘ₎⋅i + n₀⋅p₀                            \\bar{p}(\n",
       "         ⎜                                                        1 - ────────\n",
       "         ⎝                                                                    \n",
       "\n",
       "\\bar{p}(Sₘ₎⋅i + n₀⋅p₀⎞⎞                            \n",
       "─────────────────────⎟⎟                            \n",
       "              2      ⎟⎟                           2\n",
       "      (i + n₀)       ⎠⎟   2⋅(\\bar{p}(Sₘ₎⋅i - i⋅p₀) \n",
       "──────────────────────⎟ - ─────────────────────────\n",
       "Sₘ₎⋅i + n₀⋅p₀         ⎟                   3        \n",
       "─────────────         ⎟           (i + n₀)         \n",
       "i + n₀                ⎠                            "
      ]
     },
     "execution_count": 127,
     "metadata": {},
     "output_type": "execute_result"
    }
   ],
   "source": [
    "lambd = symbols(r'\\lambda_i')\n",
    "p_hat_simple = simplify(p_hat)\n",
    "logloss_inside_simple = lambd * (y * log(p_hat_simple) + (1 - y) * log(1 - p_hat_simple))\n",
    "squared_error_loss_inside_simple = simplify((p_0 - p_hat)**2)\n",
    "loss_inside_simple = logloss_inside_simple + squared_error_loss_inside_simple\n",
    "\n",
    "print(latex(diff(simplify(loss_inside_simple), n)))\n",
    "t = symbols(r'\\theta')\n",
    "\n",
    "diff(loss_inside_simple, n)"
   ]
  },
  {
   "cell_type": "code",
   "execution_count": 113,
   "metadata": {},
   "outputs": [
    {
     "data": {
      "image/png": "[encoded data removed]",
      "text/latex": [
       "$\\displaystyle \\lambda_{i} \\left(y_{i} \\log{\\left(\\frac{\\bar{p}(S_m) i + n_{0} p_{0}}{i + n_{0}} \\right)} + \\left(1 - y_{i}\\right) \\log{\\left(1 - \\frac{\\bar{p}(S_m) i + n_{0} p_{0}}{i + n_{0}} \\right)}\\right) + \\frac{\\left(\\bar{p}(S_m) i - i p_{0}\\right)^{2}}{\\left(i + n_{0}\\right)^{2}}$"
      ],
      "text/plain": [
       "                                                                              \n",
       "         ⎛      ⎛\\bar{p}(Sₘ₎⋅i + n₀⋅p₀⎞               ⎛    \\bar{p}(Sₘ₎⋅i + n₀⋅\n",
       "\\lambdaᵢ⋅⎜yᵢ⋅log⎜─────────────────────⎟ + (1 - yᵢ)⋅log⎜1 - ───────────────────\n",
       "         ⎝      ⎝        i + n₀       ⎠               ⎝            i + n₀     \n",
       "                                                                              \n",
       "\n",
       "                             2\n",
       "p₀⎞⎞   (\\bar{p}(Sₘ₎⋅i - i⋅p₀) \n",
       "──⎟⎟ + ───────────────────────\n",
       "  ⎠⎠                  2       \n",
       "              (i + n₀)        "
      ]
     },
     "execution_count": 113,
     "metadata": {},
     "output_type": "execute_result"
    }
   ],
   "source": [
    "loss_inside_simple"
   ]
  },
  {
   "cell_type": "code",
   "execution_count": 115,
   "metadata": {},
   "outputs": [
    {
     "data": {
      "image/png": "[encoded data removed]",
      "text/latex": [
       "$\\displaystyle \\frac{\\lambda_{i} \\left(i + n_{0}\\right)^{2} \\left(y_{i} \\log{\\left(\\frac{\\bar{p}(S_m) i + n_{0} p_{0}}{i + n_{0}} \\right)} - \\left(y_{i} - 1\\right) \\log{\\left(\\frac{- \\bar{p}(S_m) i + i - n_{0} p_{0} + n_{0}}{i + n_{0}} \\right)}\\right) + \\left(- \\bar{p}(S_m) i - n_{0} p_{0} + p_{0} \\left(i + n_{0}\\right)\\right)^{2}}{\\left(i + n_{0}\\right)^{2}}$"
      ],
      "text/plain": [
       "                 2 ⎛      ⎛\\bar{p}(Sₘ₎⋅i + n₀⋅p₀⎞               ⎛-\\bar{p}(Sₘ₎⋅\n",
       "\\lambdaᵢ⋅(i + n₀) ⋅⎜yᵢ⋅log⎜─────────────────────⎟ - (yᵢ - 1)⋅log⎜─────────────\n",
       "                   ⎝      ⎝        i + n₀       ⎠               ⎝             \n",
       "──────────────────────────────────────────────────────────────────────────────\n",
       "                                                                         2    \n",
       "                                                                 (i + n₀)     \n",
       "\n",
       "i + i - n₀⋅p₀ + n₀⎞⎞                                         2\n",
       "──────────────────⎟⎟ + (-\\bar{p}(Sₘ₎⋅i - n₀⋅p₀ + p₀⋅(i + n₀)) \n",
       "i + n₀            ⎠⎠                                          \n",
       "──────────────────────────────────────────────────────────────\n",
       "                                                              \n",
       "                                                              "
      ]
     },
     "execution_count": 115,
     "metadata": {},
     "output_type": "execute_result"
    }
   ],
   "source": []
  },
  {
   "cell_type": "code",
   "execution_count": null,
   "metadata": {},
   "outputs": [],
   "source": []
  }
 ],
 "metadata": {
  "kernelspec": {
   "display_name": "base",
   "language": "python",
   "name": "python3"
  },
  "language_info": {
   "codemirror_mode": {
    "name": "ipython",
    "version": 3
   },
   "file_extension": ".py",
   "mimetype": "text/x-python",
   "name": "python",
   "nbconvert_exporter": "python",
   "pygments_lexer": "ipython3",
   "version": "3.11.4"
  },
  "orig_nbformat": 4
 },
 "nbformat": 4,
 "nbformat_minor": 2
}
