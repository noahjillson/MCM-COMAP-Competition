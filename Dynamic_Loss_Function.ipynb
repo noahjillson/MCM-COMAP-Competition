{
 "cells": [
  {
   "cell_type": "code",
   "execution_count": 37,
   "metadata": {},
   "outputs": [],
   "source": [
    "import math\n",
    "from sympy import *\n",
    "init_printing(use_unicode=True)"
   ]
  },
  {
   "cell_type": "markdown",
   "metadata": {},
   "source": [
    "## Symbol Definitions:"
   ]
  },
  {
   "cell_type": "code",
   "execution_count": 44,
   "metadata": {},
   "outputs": [],
   "source": [
    "p_bar = symbols(r'\\bar{p}(S_m)')\n",
    "p_0 = symbols(r'p_0')\n",
    "y = symbols(r'y_i')\n",
    "n = symbols(r'n_0')\n",
    "m = symbols(r'm')\n",
    "i = symbols(r'i')"
   ]
  },
  {
   "cell_type": "markdown",
   "metadata": {},
   "source": [
    "## Dynamic Baysian Update Model:\n",
    "\n",
    "$$\\hat{p}(S_i) = \\frac{n_0}{(i + n_0)}*p_0 + \\bar{p}(S_i)*\\lparen 1 + \\frac{-n_0}{i + n_0}\\rparen$$"
   ]
  },
  {
   "cell_type": "code",
   "execution_count": 45,
   "metadata": {},
   "outputs": [
    {
     "name": "stdout",
     "output_type": "stream",
     "text": [
      "\\bar{p}(S_m)*(-n_0/(i + n_0) + 1) + n_0*p_0/(i + n_0)\n"
     ]
    }
   ],
   "source": [
    "# Compound Symbols / Equations\n",
    "theta = n / (n + i) # symbols(r'\\theta') - This will represent theta as the latex theta abstraction\n",
    "p_hat = theta * p_0 + (1 - theta) * p_bar\n",
    "\n",
    "print(p_hat)"
   ]
  },
  {
   "cell_type": "markdown",
   "metadata": {},
   "source": [
    "## $n_0$ Loss Function:\n",
    "\n",
    "$$Loss(n_0) = \\frac{-1}{m} \\sum_{i=1}^{m}{ \\left\\{ \\lambda_i \\left[ y_i \\log{\\hat{p}(S_i)}  + (1 - y_i) \\log{\\hat{p}(1 - S_i)} \\right] + (p_0 - \\hat{p}(S_i))^2 \\right\\} }$$\n",
    "\n",
    "Its parts include...\n",
    "\n",
    "1) $$\\text{logloss} = y_i \\log{\\hat{p}(S_i)}  + (1 - y_i) \\log{\\hat{p}(1 - S_i)}$$\n",
    "\n",
    "2) $$L_2 = (p_0 - \\hat{p}(S_i))^2$$"
   ]
  },
  {
   "cell_type": "code",
   "execution_count": 46,
   "metadata": {},
   "outputs": [],
   "source": [
    "y = symbols(r'y_i')\n",
    "i = symbols(r'i')\n",
    "\n",
    "lambd = (2 * i) / (m * (m + 1))\n",
    "logloss_inside = lambd * (y * log(p_hat) + (1 - y) * log(1 - p_hat))\n",
    "squared_error_loss_inside = (p_0 - p_hat)**2\n"
   ]
  },
  {
   "cell_type": "markdown",
   "metadata": {},
   "source": [
    "## Partial Derivatives:"
   ]
  },
  {
   "cell_type": "markdown",
   "metadata": {},
   "source": []
  }
 ],
 "metadata": {
  "kernelspec": {
   "display_name": "base",
   "language": "python",
   "name": "python3"
  },
  "language_info": {
   "codemirror_mode": {
    "name": "ipython",
    "version": 3
   },
   "file_extension": ".py",
   "mimetype": "text/x-python",
   "name": "python",
   "nbconvert_exporter": "python",
   "pygments_lexer": "ipython3",
   "version": "3.11.4"
  },
  "orig_nbformat": 4
 },
 "nbformat": 4,
 "nbformat_minor": 2
}
